{
 "cells": [
  {
   "cell_type": "code",
   "execution_count": 1,
   "id": "cdf5c116-f394-4cef-aec0-8825379e4111",
   "metadata": {},
   "outputs": [],
   "source": [
    "import numpy as np\n",
    "import torch\n",
    "np.random.seed(86)\n",
    "x = np.random.rand(100,1)\n",
    "# 利用np.random.rand生成形状(100,1)的数组，数组服从(0,1]均匀分布\n",
    "y = 1 + 2* x + 0.1 * np.random.randn(100,1)\n",
    "# np.random.randn：生成服从标准正态分布的噪声（均值为0，标准差为0.1）\n",
    "\n",
    "x_tensor = torch.from_numpy(x).float()\n",
    "y_tensor = torch.from_numpy(y).float()\n",
    "# 将x，y转换成PyTorch浮点型张量\n",
    "# 张量（tensor）是PyTorch的核心数据结构，是一种多维数组"
   ]
  },
  {
   "cell_type": "code",
   "execution_count": 2,
   "id": "0d17be49-4b51-4b97-8963-3cbbdf105839",
   "metadata": {},
   "outputs": [],
   "source": [
    "learning_rate = 0.1\n",
    "num_epochs = 1000\n",
    "# 设置超参数"
   ]
  },
  {
   "cell_type": "code",
   "execution_count": 3,
   "id": "f2f757ff-f1b5-4997-9eac-acf04bb40a9c",
   "metadata": {},
   "outputs": [],
   "source": [
    "# 初始化参数\n",
    "w = torch.randn(1, requires_grad = True)\n",
    "# requires_grad = True表示开启梯度追踪，以便在训练中通过反向传播更行w\n",
    "b = torch.zeros(1, requires_grad = True)"
   ]
  },
  {
   "cell_type": "code",
   "execution_count": 4,
   "id": "9444f2cb-8c68-4cbd-bada-78fc7d37ad33",
   "metadata": {},
   "outputs": [
    {
     "name": "stdout",
     "output_type": "stream",
     "text": [
      "w: tensor([2.0150], requires_grad=True)\n",
      "b: tensor([1.0012], requires_grad=True)\n"
     ]
    }
   ],
   "source": [
    "# 开始训练\n",
    "for epoch in range(num_epochs):\n",
    "    y_pred = x_tensor*w+b\n",
    "    loss = ((y_pred - y_tensor)**2).mean()\n",
    "    # 采用均方误差MSE计算损失\n",
    "    loss.backward()\n",
    "    # 通过反向传播计算损失对参数w和b的梯度，为参数更新做准备\n",
    "    with torch.no_grad():\n",
    "    # 上下文管理器内关闭梯度追踪(参数更新无需记录梯度)\n",
    "        w -= learning_rate * w.grad\n",
    "        b -= learning_rate * b.grad\n",
    "        w.grad.zero_()\n",
    "        b.grad.zero_()\n",
    "        # 清空w和b的梯度值\n",
    "        # PyTorch中梯度默认累积，不清空会导致下次方向传播梯度计算错误\n",
    "print('w:',w)\n",
    "print('b:',b)"
   ]
  },
  {
   "cell_type": "code",
   "execution_count": 6,
   "id": "14a10f71-fd95-4a55-8419-9e02937bacc3",
   "metadata": {},
   "outputs": [
    {
     "data": {
      "image/png": "[encoded data removed]",
      "text/plain": [
       "<Figure size 640x480 with 1 Axes>"
      ]
     },
     "metadata": {},
     "output_type": "display_data"
    }
   ],
   "source": [
    "import matplotlib.pyplot as plt\n",
    "\n",
    "plt.plot(x,y,'o')\n",
    "# 绘制原始数据点，参数'o'表示用圆点标记，展示真是数据的分布\n",
    "plt.plot(x_tensor.numpy(),y_pred.detach().numpy())\n",
    "# x_tensor.numpy()：将PyTorch张量x_tensor转换为Numpy数组，以便于matplotlib处理\n",
    "# detach()用于分离张量，使其不参与梯度计算\n",
    "plt.show()"
   ]
  },
  {
   "cell_type": "code",
   "execution_count": 7,
   "id": "e26d5d37-079b-422f-bb8f-b06bebb7e176",
   "metadata": {},
   "outputs": [
    {
     "name": "stdout",
     "output_type": "stream",
     "text": [
      "w: tensor([[1.9628]])\n",
      "b: tensor([1.0178])\n"
     ]
    }
   ],
   "source": [
    "import torch.nn as nn\n",
    "x = np.random.rand(100,1)\n",
    "y = 1 + 2 * x + 0.1 * np.random.randn(100,1)\n",
    "\n",
    "x_tensor = torch.from_numpy(x).float()\n",
    "y_tensor = torch.from_numpy(y).float()\n",
    "\n",
    "learning_rate = 0.1\n",
    "num_epochs = 1000\n",
    "\n",
    "input_dim = 1\n",
    "output_dim = 1\n",
    "\n",
    "model = nn.Linear(input_dim, output_dim)\n",
    "\n",
    "criterion = nn.MSELoss()\n",
    "optimizer = torch.optim.SGD(model.parameters(), lr = learning_rate)\n",
    "\n",
    "for epoch in range(num_epochs):\n",
    "    y_pred = model(x_tensor)\n",
    "\n",
    "    loss = criterion(y_pred,y_tensor)\n",
    "\n",
    "    optimizer.zero_grad()\n",
    "\n",
    "    loss.backward()\n",
    "\n",
    "    optimizer.step()\n",
    "\n",
    "print('w:',model.weight.data)\n",
    "print('b:',model.bias.data)\n",
    "    "
   ]
  }
 ],
 "metadata": {
  "kernelspec": {
   "display_name": "Python 3 (ipykernel)",
   "language": "python",
   "name": "python3"
  },
  "language_info": {
   "codemirror_mode": {
    "name": "ipython",
    "version": 3
   },
   "file_extension": ".py",
   "mimetype": "text/x-python",
   "name": "python",
   "nbconvert_exporter": "python",
   "pygments_lexer": "ipython3",
   "version": "3.9.21"
  }
 },
 "nbformat": 4,
 "nbformat_minor": 5
}
