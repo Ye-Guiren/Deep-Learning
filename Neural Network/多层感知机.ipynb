{
 "cells": [
  {
   "cell_type": "code",
   "execution_count": 1,
   "id": "65568553-465d-4040-af83-eb37da579af3",
   "metadata": {},
   "outputs": [],
   "source": [
    "import torch\n",
    "from torchvision import datasets\n",
    "from torchvision import transforms\n",
    "# 用于数据预处理和转换\n",
    "import torch.nn as nn\n",
    "# 构建神经网络模型的模块\n",
    "import torch.optim as optim"
   ]
  },
  {
   "cell_type": "code",
   "execution_count": 5,
   "id": "cd1993a9-029c-4bd0-9a89-3db33884be11",
   "metadata": {},
   "outputs": [],
   "source": [
    "train_data = datasets.MNIST(\n",
    "    root = \"data/mnist\",\n",
    "    # 数据存储路径\n",
    "    train = True,\n",
    "    # 加载训练集\n",
    "    transform = transforms.ToTensor(),\n",
    "    # 将数据转换为张量\n",
    "    download = True\n",
    "    # 若数据不存在则下载\n",
    ")\n",
    "test_data = datasets.MNIST(\n",
    "    root = \"data/mnist\",\n",
    "    train = False,\n",
    "    # 加载测试集\n",
    "    transform = transforms.ToTensor(),\n",
    "    download = True\n",
    ")"
   ]
  },
  {
   "cell_type": "code",
   "execution_count": 6,
   "id": "284f31ab-3e0d-4ed7-82ee-a4956673437e",
   "metadata": {},
   "outputs": [],
   "source": [
    "batch_size = 100\n",
    "train_loader = torch.utils.data.DataLoader(dataset=train_data,\n",
    "                                           batch_size = batch_size,\n",
    "                                           shuffle=True)\n",
    "# torch.utils.data.DataLoader：用于将数据集包装成可迭代的批量数据\n",
    "test_loader = torch.utils.data.DataLoader(dataset = test_data,\n",
    "                                         batch_size = batch_size,\n",
    "                                         shuffle=False)\n",
    "# 训练集每次用epoch打乱数据顺序：增加数据随机性\n",
    "# 测试集不打乱顺序：保持测试数据顺序稳定，便于评估"
   ]
  },
  {
   "cell_type": "code",
   "execution_count": 7,
   "id": "bf276ccb-221b-4be8-bf51-f1b4410ae416",
   "metadata": {},
   "outputs": [],
   "source": [
    "class MLP(nn.Module):\n",
    "# 定义MLP类,继承自nn.Module,使MLP具备神经网络的基本功能\n",
    "# nn.Module:Pytorch中所有神经网络模型的基类\n",
    "    def __init__(self, input_size,hidden_size,num_classes):\n",
    "        # input_size:输入数据的维度\n",
    "        # hidden_size：隐藏层的神经元数量\n",
    "        # num_classes:输出分类的数量\n",
    "        super(MLP,self).___init__()\n",
    "        # 调用父类初始化方法\n",
    "        self.fc1 = nn.Linear(input_size,hidden_size)\n",
    "        # 第一个全连接层，输入维度 -> 隐藏层维度\n",
    "        self.relu = nn.ReLu()\n",
    "        # 定义ReLu激活函数，引入非线性\n",
    "        self.fc2 = nn.Linear(hidden_size,hidden_size)\n",
    "        # 第二个全连接层，隐藏层 -> 隐藏层\n",
    "        self.fc3 = nn.Linear(hidden_size, num_classes)\n",
    "        # 第三个全连接层，隐藏层 -> 输出类别数\n",
    "# nn.Linear:定义全连接层，参数为输入维度和输出维度\n",
    "# super(MLP, self).__init__():必修调用父类初始化，确保模型正确继承nn.Module的功能"
   ]
  },
  {
   "cell_type": "code",
   "execution_count": null,
   "id": "2bf0da35-502f-42ac-8243-2d20521c8afe",
   "metadata": {},
   "outputs": [],
   "source": []
  }
 ],
 "metadata": {
  "kernelspec": {
   "display_name": "Python 3 (ipykernel)",
   "language": "python",
   "name": "python3"
  },
  "language_info": {
   "codemirror_mode": {
    "name": "ipython",
    "version": 3
   },
   "file_extension": ".py",
   "mimetype": "text/x-python",
   "name": "python",
   "nbconvert_exporter": "python",
   "pygments_lexer": "ipython3",
   "version": "3.9.21"
  }
 },
 "nbformat": 4,
 "nbformat_minor": 5
}
