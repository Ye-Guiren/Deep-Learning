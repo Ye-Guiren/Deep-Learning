{
 "cells": [
  {
   "cell_type": "markdown",
   "id": "e9f13ab6-d5ed-440f-852e-7150e2602bfc",
   "metadata": {},
   "source": [
    "### 张量的保存和加载"
   ]
  },
  {
   "cell_type": "code",
   "execution_count": 1,
   "id": "fe764e5b-56f1-4010-b303-e09c472fd1b4",
   "metadata": {},
   "outputs": [],
   "source": [
    "import torch"
   ]
  },
  {
   "cell_type": "code",
   "execution_count": 2,
   "id": "32845069-ccc1-4e22-9894-f3713c091cfa",
   "metadata": {},
   "outputs": [
    {
     "data": {
      "text/plain": [
       "tensor([0.7962, 0.3250, 0.4597, 0.0873, 0.7479, 0.6129])"
      ]
     },
     "execution_count": 2,
     "metadata": {},
     "output_type": "execute_result"
    }
   ],
   "source": [
    "a = torch.rand(6)\n",
    "a"
   ]
  },
  {
   "cell_type": "code",
   "execution_count": 4,
   "id": "e56c42c8-824e-415e-acde-cc994c94dce2",
   "metadata": {},
   "outputs": [],
   "source": [
    "import os \n",
    "os.makedirs(\"model\", exist_ok = True)\n",
    "torch.save(a,\"model/tensor_a\")"
   ]
  },
  {
   "cell_type": "code",
   "execution_count": 5,
   "id": "ca730ec6-cdf2-4ffe-a34f-b9c8818f69a1",
   "metadata": {},
   "outputs": [
    {
     "name": "stderr",
     "output_type": "stream",
     "text": [
      "C:\\Users\\Ye Guiren\\AppData\\Local\\Temp\\ipykernel_16356\\18023226.py:1: FutureWarning: You are using `torch.load` with `weights_only=False` (the current default value), which uses the default pickle module implicitly. It is possible to construct malicious pickle data which will execute arbitrary code during unpickling (See https://github.com/pytorch/pytorch/blob/main/SECURITY.md#untrusted-models for more details). In a future release, the default value for `weights_only` will be flipped to `True`. This limits the functions that could be executed during unpickling. Arbitrary objects will no longer be allowed to be loaded via this mode unless they are explicitly allowlisted by the user via `torch.serialization.add_safe_globals`. We recommend you start setting `weights_only=True` for any use case where you don't have full control of the loaded file. Please open an issue on GitHub for any issues related to this experimental feature.\n",
      "  torch.load(\"model/tensor_a\")\n"
     ]
    },
    {
     "data": {
      "text/plain": [
       "tensor([0.7962, 0.3250, 0.4597, 0.0873, 0.7479, 0.6129])"
      ]
     },
     "execution_count": 5,
     "metadata": {},
     "output_type": "execute_result"
    }
   ],
   "source": [
    "torch.load(\"model/tensor_a\")"
   ]
  },
  {
   "cell_type": "code",
   "execution_count": 6,
   "id": "cc45475d-0742-416d-8a2e-7f7f5d869e12",
   "metadata": {},
   "outputs": [
    {
     "data": {
      "text/plain": [
       "[tensor([0.4978, 0.9532, 0.5346, 0.8579, 0.9015, 0.4092]),\n",
       " tensor([0.0424, 0.9027, 0.6611, 0.1578, 0.1167, 0.6473]),\n",
       " tensor([0.1675, 0.2779, 0.4797, 0.5089, 0.9714, 0.3154])]"
      ]
     },
     "execution_count": 6,
     "metadata": {},
     "output_type": "execute_result"
    }
   ],
   "source": [
    "a = torch.rand(6)\n",
    "b = torch.rand(6)\n",
    "c = torch.rand(6)\n",
    "[a,b,c]"
   ]
  },
  {
   "cell_type": "code",
   "execution_count": 7,
   "id": "fc4e6b7a-787e-466e-9438-be039b823f54",
   "metadata": {},
   "outputs": [],
   "source": [
    "torch.save([a,b,c],\"model/tensor_abc\")"
   ]
  },
  {
   "cell_type": "code",
   "execution_count": 8,
   "id": "ea27c17b-663e-4a0d-9bc9-a948ae214644",
   "metadata": {},
   "outputs": [
    {
     "name": "stderr",
     "output_type": "stream",
     "text": [
      "C:\\Users\\Ye Guiren\\AppData\\Local\\Temp\\ipykernel_16356\\3520973659.py:1: FutureWarning: You are using `torch.load` with `weights_only=False` (the current default value), which uses the default pickle module implicitly. It is possible to construct malicious pickle data which will execute arbitrary code during unpickling (See https://github.com/pytorch/pytorch/blob/main/SECURITY.md#untrusted-models for more details). In a future release, the default value for `weights_only` will be flipped to `True`. This limits the functions that could be executed during unpickling. Arbitrary objects will no longer be allowed to be loaded via this mode unless they are explicitly allowlisted by the user via `torch.serialization.add_safe_globals`. We recommend you start setting `weights_only=True` for any use case where you don't have full control of the loaded file. Please open an issue on GitHub for any issues related to this experimental feature.\n",
      "  torch.load(\"model/tensor_abc\")\n"
     ]
    },
    {
     "data": {
      "text/plain": [
       "[tensor([0.4978, 0.9532, 0.5346, 0.8579, 0.9015, 0.4092]),\n",
       " tensor([0.0424, 0.9027, 0.6611, 0.1578, 0.1167, 0.6473]),\n",
       " tensor([0.1675, 0.2779, 0.4797, 0.5089, 0.9714, 0.3154])]"
      ]
     },
     "execution_count": 8,
     "metadata": {},
     "output_type": "execute_result"
    }
   ],
   "source": [
    "torch.load(\"model/tensor_abc\")"
   ]
  },
  {
   "cell_type": "code",
   "execution_count": 10,
   "id": "01a765b5-ad9b-48bd-8827-712a3423bc99",
   "metadata": {},
   "outputs": [
    {
     "data": {
      "text/plain": [
       "{'a': tensor([0.4978, 0.9532, 0.5346, 0.8579, 0.9015, 0.4092]),\n",
       " 'b': tensor([0.0424, 0.9027, 0.6611, 0.1578, 0.1167, 0.6473]),\n",
       " 'c': tensor([0.1675, 0.2779, 0.4797, 0.5089, 0.9714, 0.3154])}"
      ]
     },
     "execution_count": 10,
     "metadata": {},
     "output_type": "execute_result"
    }
   ],
   "source": [
    "tensor_dict = {'a':a,'b':b,'c':c}\n",
    "tensor_dict"
   ]
  },
  {
   "cell_type": "code",
   "execution_count": 11,
   "id": "42b7ee95-dd0a-494d-9e23-4ccb91c92588",
   "metadata": {},
   "outputs": [],
   "source": [
    "torch.save(tensor_dict,\"model/tensor_dict_abc\")"
   ]
  },
  {
   "cell_type": "code",
   "execution_count": 12,
   "id": "d84682b5-250c-47d3-a05d-2228b14d9fcc",
   "metadata": {},
   "outputs": [
    {
     "name": "stderr",
     "output_type": "stream",
     "text": [
      "C:\\Users\\Ye Guiren\\AppData\\Local\\Temp\\ipykernel_16356\\3326522502.py:1: FutureWarning: You are using `torch.load` with `weights_only=False` (the current default value), which uses the default pickle module implicitly. It is possible to construct malicious pickle data which will execute arbitrary code during unpickling (See https://github.com/pytorch/pytorch/blob/main/SECURITY.md#untrusted-models for more details). In a future release, the default value for `weights_only` will be flipped to `True`. This limits the functions that could be executed during unpickling. Arbitrary objects will no longer be allowed to be loaded via this mode unless they are explicitly allowlisted by the user via `torch.serialization.add_safe_globals`. We recommend you start setting `weights_only=True` for any use case where you don't have full control of the loaded file. Please open an issue on GitHub for any issues related to this experimental feature.\n",
      "  torch.load(\"model/tensor_dict_abc\")\n"
     ]
    },
    {
     "data": {
      "text/plain": [
       "{'a': tensor([0.4978, 0.9532, 0.5346, 0.8579, 0.9015, 0.4092]),\n",
       " 'b': tensor([0.0424, 0.9027, 0.6611, 0.1578, 0.1167, 0.6473]),\n",
       " 'c': tensor([0.1675, 0.2779, 0.4797, 0.5089, 0.9714, 0.3154])}"
      ]
     },
     "execution_count": 12,
     "metadata": {},
     "output_type": "execute_result"
    }
   ],
   "source": [
    "torch.load(\"model/tensor_dict_abc\")"
   ]
  },
  {
   "cell_type": "markdown",
   "id": "b315e1e0-45d2-4580-8b8b-be06ed696dd5",
   "metadata": {},
   "source": [
    "### 模型的读写"
   ]
  },
  {
   "cell_type": "code",
   "execution_count": 14,
   "id": "fa312fa2-40bf-4a6e-9c68-62ffe11db3c1",
   "metadata": {},
   "outputs": [],
   "source": [
    "from torch import nn\n",
    "class MLP(nn.Module):\n",
    "# 定义MLP类,继承自nn.Module,使MLP具备神经网络的基本功能\n",
    "# nn.Module:Pytorch中所有神经网络模型的基类\n",
    "    def __init__(self, input_size,hidden_size,num_classes):\n",
    "        # input_size:输入数据的维度\n",
    "        # hidden_size：隐藏层的神经元数量\n",
    "        # num_classes:输出分类的数量\n",
    "        super(MLP,self).__init__()\n",
    "        # 调用父类初始化方法\n",
    "        self.fc1 = nn.Linear(input_size,hidden_size)\n",
    "        # 第一个全连接层，输入维度 -> 隐藏层维度\n",
    "        self.relu = nn.ReLU()\n",
    "        # 定义ReLu激活函数，引入非线性\n",
    "        self.fc2 = nn.Linear(hidden_size,hidden_size)\n",
    "        # 第二个全连接层，隐藏层 -> 隐藏层\n",
    "        self.fc3 = nn.Linear(hidden_size, num_classes)\n",
    "        # 第三个全连接层，隐藏层 -> 输出类别数\n",
    "# nn.Linear:定义全连接层，参数为输入维度和输出维度\n",
    "# super(MLP, self).__init__():必修调用父类初始化，确保模型正确继承nn.Module的功能\n",
    "    def forward(self,x):\n",
    "        out = self.fc1(x)\n",
    "        # 第一层运算\n",
    "        out = self.relu(out)\n",
    "        # 对第一层的输出应用ReLU激活函数\n",
    "        out = self.fc2(out)\n",
    "        # 激活后的结果传入第二层全连接层\n",
    "        out = self.relu(out)\n",
    "        # 对第二层输出再次应用ReLU激活\n",
    "        out = self.fc3(out)\n",
    "        # 最后传入第三层全连接层，输出结果用于分类\n",
    "        return out\n",
    "input_size = 28*28\n",
    "hidden_size = 512\n",
    "# 隐藏层神经元数量为512,用于特征提取和特征转换\n",
    "num_classes = 10\n",
    "model = MLP(input_size, hidden_size, num_classes)"
   ]
  },
  {
   "cell_type": "markdown",
   "id": "d031e8b2-17f3-477d-9a07-185df90ffd55",
   "metadata": {},
   "source": [
    "### 方法1"
   ]
  },
  {
   "cell_type": "code",
   "execution_count": 17,
   "id": "3bb3a5c5-71b8-413a-9461-cb9e0f88d1ff",
   "metadata": {},
   "outputs": [],
   "source": [
    "# 保存模型参数\n",
    "torch.save(model.state_dict(),\"model/mlp_state_dict.pth\")\n",
    "# model.state_dict()：获取模型model的参数字典，包含各层的权重、偏置等参数"
   ]
  },
  {
   "cell_type": "code",
   "execution_count": 18,
   "id": "b7abd304-d06a-46c5-acc6-a5cb9c5a9f4a",
   "metadata": {},
   "outputs": [
    {
     "name": "stderr",
     "output_type": "stream",
     "text": [
      "C:\\Users\\Ye Guiren\\AppData\\Local\\Temp\\ipykernel_16356\\342098640.py:1: FutureWarning: You are using `torch.load` with `weights_only=False` (the current default value), which uses the default pickle module implicitly. It is possible to construct malicious pickle data which will execute arbitrary code during unpickling (See https://github.com/pytorch/pytorch/blob/main/SECURITY.md#untrusted-models for more details). In a future release, the default value for `weights_only` will be flipped to `True`. This limits the functions that could be executed during unpickling. Arbitrary objects will no longer be allowed to be loaded via this mode unless they are explicitly allowlisted by the user via `torch.serialization.add_safe_globals`. We recommend you start setting `weights_only=True` for any use case where you don't have full control of the loaded file. Please open an issue on GitHub for any issues related to this experimental feature.\n",
      "  mlp_state_dict = torch.load(\"model/mlp_state_dict.pth\")\n"
     ]
    },
    {
     "data": {
      "text/plain": [
       "<All keys matched successfully>"
      ]
     },
     "execution_count": 18,
     "metadata": {},
     "output_type": "execute_result"
    }
   ],
   "source": [
    "mlp_state_dict = torch.load(\"model/mlp_state_dict.pth\")\n",
    "# 加载保存的参数字典\n",
    "model_load = MLP(input_size,hidden_size,num_classes)\n",
    "# 重新实例化与原模型结构相同的MLP模型model_load，确保层结构、参数数量一致，才能正确加载参数\n",
    "model_load.load_state_dict(mlp_state_dict)\n",
    "# 将加载的参数字典mlp_state_dict应用导新模型model_load"
   ]
  },
  {
   "cell_type": "markdown",
   "id": "6463fde6-0dad-4e3a-a6b6-dbe5fe2144da",
   "metadata": {},
   "source": [
    "### 方法2"
   ]
  },
  {
   "cell_type": "code",
   "execution_count": 19,
   "id": "6ddac2d4-8bbe-4b02-afe9-e992a4fe361f",
   "metadata": {},
   "outputs": [],
   "source": [
    "torch.save(model,\"model/mlp_model.pth\")\n",
    "# 保存则会个那个模型（含结构与参数），文件较大"
   ]
  },
  {
   "cell_type": "code",
   "execution_count": 20,
   "id": "14040201-200a-4c1c-bddc-07f69cde91cb",
   "metadata": {},
   "outputs": [
    {
     "name": "stderr",
     "output_type": "stream",
     "text": [
      "C:\\Users\\Ye Guiren\\AppData\\Local\\Temp\\ipykernel_16356\\234023158.py:1: FutureWarning: You are using `torch.load` with `weights_only=False` (the current default value), which uses the default pickle module implicitly. It is possible to construct malicious pickle data which will execute arbitrary code during unpickling (See https://github.com/pytorch/pytorch/blob/main/SECURITY.md#untrusted-models for more details). In a future release, the default value for `weights_only` will be flipped to `True`. This limits the functions that could be executed during unpickling. Arbitrary objects will no longer be allowed to be loaded via this mode unless they are explicitly allowlisted by the user via `torch.serialization.add_safe_globals`. We recommend you start setting `weights_only=True` for any use case where you don't have full control of the loaded file. Please open an issue on GitHub for any issues related to this experimental feature.\n",
      "  mlp_load = torch.load(\"model/mlp_model.pth\")\n"
     ]
    }
   ],
   "source": [
    "mlp_load = torch.load(\"model/mlp_model.pth\")\n",
    "# 直接加载完整模型，无需重新定义模型结构"
   ]
  },
  {
   "cell_type": "markdown",
   "id": "74be1ab6-c917-4572-808c-79dd258d190c",
   "metadata": {},
   "source": [
    "### 方式3：checkpoint"
   ]
  },
  {
   "cell_type": "code",
   "execution_count": 21,
   "id": "33a220bc-0e94-4d41-8d6f-4a2454e86394",
   "metadata": {},
   "outputs": [
    {
     "ename": "NameError",
     "evalue": "name 'epoch' is not defined",
     "output_type": "error",
     "traceback": [
      "\u001b[1;31m---------------------------------------------------------------------------\u001b[0m",
      "\u001b[1;31mNameError\u001b[0m                                 Traceback (most recent call last)",
      "Cell \u001b[1;32mIn[21], line 2\u001b[0m\n\u001b[0;32m      1\u001b[0m torch\u001b[38;5;241m.\u001b[39msave({\n\u001b[1;32m----> 2\u001b[0m     \u001b[38;5;124m'\u001b[39m\u001b[38;5;124mepoch\u001b[39m\u001b[38;5;124m'\u001b[39m:\u001b[43mepoch\u001b[49m,\n\u001b[0;32m      3\u001b[0m     \u001b[38;5;124m'\u001b[39m\u001b[38;5;124mmodel_state_dict\u001b[39m\u001b[38;5;124m'\u001b[39m:model\u001b[38;5;241m.\u001b[39mstate_dict(),\n\u001b[0;32m      4\u001b[0m     \u001b[38;5;124m'\u001b[39m\u001b[38;5;124moptimizer_state_dict\u001b[39m\u001b[38;5;124m'\u001b[39m:optimizer\u001b[38;5;241m.\u001b[39mstate_dict(),\n\u001b[0;32m      5\u001b[0m     \u001b[38;5;124m'\u001b[39m\u001b[38;5;124mloss\u001b[39m\u001b[38;5;124m'\u001b[39m:loss,\n\u001b[0;32m      6\u001b[0m     },model\u001b[38;5;241m/\u001b[39mmlp_model_checkpoint\u001b[38;5;241m.\u001b[39mpth)\n",
      "\u001b[1;31mNameError\u001b[0m: name 'epoch' is not defined"
     ]
    }
   ],
   "source": [
    "torch.save({\n",
    "    'epoch':epoch,\n",
    "    'model_state_dict':model.state_dict(),\n",
    "    'optimizer_state_dict':optimizer.state_dict(),\n",
    "    'loss':loss,\n",
    "    },model/mlp_model_checkpoint.pth)"
   ]
  },
  {
   "cell_type": "code",
   "execution_count": null,
   "id": "994f7220-217c-41fe-a95c-1013a4f68d4a",
   "metadata": {},
   "outputs": [],
   "source": [
    "model = TheModelClass(*args, **kwargs)\n",
    "# 按原定义实例化模型  \n",
    "optimizer = TheOptimizerClass(*args, **kwargs)\n",
    "# 按原定义实例化优化器  \n",
    "\n",
    "checkpoint = torch.load(PATH)\n",
    "# 加载检查点数据  \n",
    "model.load_state_dict(checkpoint['model_state_dict'])\n",
    "# 恢复模型参数  \n",
    "optimizer.load_state_dict(checkpoint['optimizer_state_dict'])\n",
    "# 恢复优化器状态  \n",
    "epoch = checkpoint['epoch']\n",
    "# 恢复训练轮次记录  \n",
    "loss = checkpoint['loss']\n",
    "# 恢复保存时的损失值  \n",
    "model.eval()\n",
    "# 将模型设为评估模式（如需继续训练，可调整为训练模式）  "
   ]
  }
 ],
 "metadata": {
  "kernelspec": {
   "display_name": "Python 3 (ipykernel)",
   "language": "python",
   "name": "python3"
  },
  "language_info": {
   "codemirror_mode": {
    "name": "ipython",
    "version": 3
   },
   "file_extension": ".py",
   "mimetype": "text/x-python",
   "name": "python",
   "nbconvert_exporter": "python",
   "pygments_lexer": "ipython3",
   "version": "3.9.21"
  }
 },
 "nbformat": 4,
 "nbformat_minor": 5
}
