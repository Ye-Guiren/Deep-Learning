{
 "cells": [
  {
   "cell_type": "code",
   "execution_count": 1,
   "id": "8a173b6d-8417-4056-a73a-13a8b15f26f5",
   "metadata": {},
   "outputs": [],
   "source": [
    "import torch\n",
    "import torch.nn as nn\n",
    "from torchinfo import summary"
   ]
  },
  {
   "cell_type": "code",
   "execution_count": 2,
   "id": "0fba922e-41e4-4d72-bfb0-aad11af10507",
   "metadata": {},
   "outputs": [],
   "source": [
    "class AlexNet(nn.Module):\n",
    "    def __init__(self,num_classes = 10000,dropout = 0.5):\n",
    "        super().__init__()\n",
    "        # 特征提取\n",
    "        self.features = nn.Sequential(\n",
    "        # nn.Sequential:有序容器，按顺序依次执行其中的模块\n",
    "            # 第一层\n",
    "            nn.Conv2d(3,64,kernel_size = 11,stride = 4,padding = 2),\n",
    "            nn.ReLU(inplace = True),\n",
    "            # inplace = True表示原地计算，节省内存\n",
    "            nn.MaxPool2d(kernel_size = 3,stride = 2),\n",
    "            # 第二层\n",
    "            nn.Conv2d(64,192,kernel_size = 5, padding = 2),\n",
    "            nn.ReLU(inplace = True),\n",
    "            nn.MaxPool2d(kernel_size = 3,stride = 2),\n",
    "            # 第三层\n",
    "            nn.Conv2d(192,384,kernel_size = 3,padding = 1),\n",
    "            nn.ReLU(inplace = True),\n",
    "            # 第四层\n",
    "            nn.Conv2d(384,256,kernel_size = 3, padding = 1),\n",
    "            nn.ReLU(inplace = True),\n",
    "            # 第五层\n",
    "            nn.Conv2d(256,256,kernel_size = 3, padding = 1),\n",
    "            nn.ReLU(inplace = True),\n",
    "            nn.MaxPool2d(kernel_size = 3,stride = 2)\n",
    "        )\n",
    "        self.classifier = nn.Sequential(\n",
    "            nn.Dropout(p = dropout),\n",
    "            nn.Linear(256 * 6  * 6, 4096),\n",
    "            nn.ReLU(inplace = True),\n",
    "            nn.Dropout(p = dropout),\n",
    "            nn.Linear(4096,4096),\n",
    "            nn.ReLU(inplace = True),\n",
    "            nn.Linear(4096, num_classes)\n",
    "        )\n",
    "    def forward(self,x):\n",
    "        x = self.features(x)\n",
    "        x = torch.flatten(x,1)\n",
    "        x = self.classifier(x)\n",
    "        return x"
   ]
  },
  {
   "cell_type": "code",
   "execution_count": 3,
   "id": "971b8f1e-6829-4655-a580-9d0eb73327e3",
   "metadata": {},
   "outputs": [
    {
     "name": "stdout",
     "output_type": "stream",
     "text": [
      "Mon May  5 21:40:47 2025       \n",
      "+-----------------------------------------------------------------------------------------+\n",
      "| NVIDIA-SMI 566.36                 Driver Version: 566.36         CUDA Version: 12.7     |\n",
      "|-----------------------------------------+------------------------+----------------------+\n",
      "| GPU  Name                  Driver-Model | Bus-Id          Disp.A | Volatile Uncorr. ECC |\n",
      "| Fan  Temp   Perf          Pwr:Usage/Cap |           Memory-Usage | GPU-Util  Compute M. |\n",
      "|                                         |                        |               MIG M. |\n",
      "|=========================================+========================+======================|\n",
      "|   0  NVIDIA GeForce RTX 4070 ...  WDDM  |   00000000:01:00.0  On |                  N/A |\n",
      "| N/A   47C    P3             13W /  140W |    1769MiB /   8188MiB |      3%      Default |\n",
      "|                                         |                        |                  N/A |\n",
      "+-----------------------------------------+------------------------+----------------------+\n",
      "                                                                                         \n",
      "+-----------------------------------------------------------------------------------------+\n",
      "| Processes:                                                                              |\n",
      "|  GPU   GI   CI        PID   Type   Process name                              GPU Memory |\n",
      "|        ID   ID                                                               Usage      |\n",
      "|=========================================================================================|\n",
      "|    0   N/A  N/A      1880    C+G   ...crosoft\\Edge\\Application\\msedge.exe      N/A      |\n",
      "|    0   N/A  N/A      2676    C+G   ...nr4m\\radeonsoftware\\AMDRSSrcExt.exe      N/A      |\n",
      "|    0   N/A  N/A      6772    C+G   C:\\Windows\\explorer.exe                     N/A      |\n",
      "|    0   N/A  N/A      7088    C+G   ...ekyb3d8bbwe\\PhoneExperienceHost.exe      N/A      |\n",
      "|    0   N/A  N/A      7452    C+G   ...on\\135.0.3179.98\\msedgewebview2.exe      N/A      |\n",
      "|    0   N/A  N/A      9388    C+G   ...nt.CBS_cw5n1h2txyewy\\SearchHost.exe      N/A      |\n",
      "|    0   N/A  N/A     10352    C+G   ...siveControlPanel\\SystemSettings.exe      N/A      |\n",
      "|    0   N/A  N/A     11672    C+G   ...m\\radeonsoftware\\RadeonSoftware.exe      N/A      |\n",
      "|    0   N/A  N/A     15704    C+G   C:\\Windows\\System32\\ShellHost.exe           N/A      |\n",
      "|    0   N/A  N/A     16900    C+G   ...CBS_cw5n1h2txyewy\\TextInputHost.exe      N/A      |\n",
      "|    0   N/A  N/A     16956    C+G   ...t.LockApp_cw5n1h2txyewy\\LockApp.exe      N/A      |\n",
      "|    0   N/A  N/A     17148    C+G   ...5n1h2txyewy\\ShellExperienceHost.exe      N/A      |\n",
      "|    0   N/A  N/A     17188    C+G   D:\\Cloudmusic\\cloudmusic.exe                N/A      |\n",
      "|    0   N/A  N/A     17892    C+G   ...2txyewy\\StartMenuExperienceHost.exe      N/A      |\n",
      "|    0   N/A  N/A     18148    C+G   ...s\\System32\\ApplicationFrameHost.exe      N/A      |\n",
      "|    0   N/A  N/A     18224    C+G   ...on\\135.0.3179.98\\msedgewebview2.exe      N/A      |\n",
      "|    0   N/A  N/A     18336    C+G   ...1\\extracted\\runtime\\WeChatAppEx.exe      N/A      |\n",
      "|    0   N/A  N/A     18476    C+G   ...on\\wallpaper_engine\\wallpaper32.exe      N/A      |\n",
      "|    0   N/A  N/A     22328    C+G   C:\\Windows\\explorer.exe                     N/A      |\n",
      "|    0   N/A  N/A     22792    C+G   ...\\DAUM\\PotPlayer\\PotPlayerMini64.exe      N/A      |\n",
      "+-----------------------------------------------------------------------------------------+\n"
     ]
    }
   ],
   "source": [
    "!nvidia-smi"
   ]
  },
  {
   "cell_type": "code",
   "execution_count": 4,
   "id": "bbcb540c-7709-4ad5-97e3-b21c67113400",
   "metadata": {},
   "outputs": [
    {
     "data": {
      "text/plain": [
       "(device(type='cuda', index=0),\n",
       " device(type='cpu'),\n",
       " [device(type='cuda', index=0)])"
      ]
     },
     "execution_count": 4,
     "metadata": {},
     "output_type": "execute_result"
    }
   ],
   "source": [
    "def try_gpu(i=0):\n",
    "    if torch.cuda.device_count() >= i+1:\n",
    "        return torch.device(f'cuda:{i}')\n",
    "    return torch.device('cpu')\n",
    "\n",
    "def try_all_gpus():\n",
    "    devices = [\n",
    "        torch.device(f'cuda:{i}') for i in range(torch.cuda.device_count())]\n",
    "    return devices if devices else [torch.device('cpu')]\n",
    "\n",
    "try_gpu(),try_gpu(10),try_all_gpus()"
   ]
  },
  {
   "cell_type": "code",
   "execution_count": 5,
   "id": "7abccf64-0e90-4bc3-bc17-833c75f17a1a",
   "metadata": {},
   "outputs": [],
   "source": [
    "model = AlexNet(num_classes = 102)\n",
    "model = model.to(device = try_gpu())"
   ]
  },
  {
   "cell_type": "code",
   "execution_count": 6,
   "id": "8b5d820c-b875-4553-b5de-1c38d98a85ac",
   "metadata": {},
   "outputs": [
    {
     "data": {
      "text/plain": [
       "==========================================================================================\n",
       "Layer (type:depth-idx)                   Output Shape              Param #\n",
       "==========================================================================================\n",
       "AlexNet                                  [1, 10000]                --\n",
       "├─Sequential: 1-1                        [1, 256, 6, 6]            --\n",
       "│    └─Conv2d: 2-1                       [1, 64, 55, 55]           23,296\n",
       "│    └─ReLU: 2-2                         [1, 64, 55, 55]           --\n",
       "│    └─MaxPool2d: 2-3                    [1, 64, 27, 27]           --\n",
       "│    └─Conv2d: 2-4                       [1, 192, 27, 27]          307,392\n",
       "│    └─ReLU: 2-5                         [1, 192, 27, 27]          --\n",
       "│    └─MaxPool2d: 2-6                    [1, 192, 13, 13]          --\n",
       "│    └─Conv2d: 2-7                       [1, 384, 13, 13]          663,936\n",
       "│    └─ReLU: 2-8                         [1, 384, 13, 13]          --\n",
       "│    └─Conv2d: 2-9                       [1, 256, 13, 13]          884,992\n",
       "│    └─ReLU: 2-10                        [1, 256, 13, 13]          --\n",
       "│    └─Conv2d: 2-11                      [1, 256, 13, 13]          590,080\n",
       "│    └─ReLU: 2-12                        [1, 256, 13, 13]          --\n",
       "│    └─MaxPool2d: 2-13                   [1, 256, 6, 6]            --\n",
       "├─Sequential: 1-2                        [1, 10000]                --\n",
       "│    └─Dropout: 2-14                     [1, 9216]                 --\n",
       "│    └─Linear: 2-15                      [1, 4096]                 37,752,832\n",
       "│    └─ReLU: 2-16                        [1, 4096]                 --\n",
       "│    └─Dropout: 2-17                     [1, 4096]                 --\n",
       "│    └─Linear: 2-18                      [1, 4096]                 16,781,312\n",
       "│    └─ReLU: 2-19                        [1, 4096]                 --\n",
       "│    └─Linear: 2-20                      [1, 10000]                40,970,000\n",
       "==========================================================================================\n",
       "Total params: 97,973,840\n",
       "Trainable params: 97,973,840\n",
       "Non-trainable params: 0\n",
       "Total mult-adds (M): 751.56\n",
       "==========================================================================================\n",
       "Input size (MB): 0.60\n",
       "Forward/backward pass size (MB): 4.03\n",
       "Params size (MB): 391.90\n",
       "Estimated Total Size (MB): 396.52\n",
       "=========================================================================================="
      ]
     },
     "execution_count": 6,
     "metadata": {},
     "output_type": "execute_result"
    }
   ],
   "source": [
    "summary(AlexNet(),input_size = (1,3,224,224))"
   ]
  },
  {
   "cell_type": "code",
   "execution_count": 7,
   "id": "824da20c-b829-4bce-bc96-476f6ad403b1",
   "metadata": {},
   "outputs": [
    {
     "data": {
      "text/plain": [
       "==========================================================================================\n",
       "Layer (type:depth-idx)                   Output Shape              Param #\n",
       "==========================================================================================\n",
       "AlexNet                                  [1, 1000]                 --\n",
       "├─Sequential: 1-1                        [1, 256, 6, 6]            --\n",
       "│    └─Conv2d: 2-1                       [1, 64, 55, 55]           23,296\n",
       "│    └─ReLU: 2-2                         [1, 64, 55, 55]           --\n",
       "│    └─MaxPool2d: 2-3                    [1, 64, 27, 27]           --\n",
       "│    └─Conv2d: 2-4                       [1, 192, 27, 27]          307,392\n",
       "│    └─ReLU: 2-5                         [1, 192, 27, 27]          --\n",
       "│    └─MaxPool2d: 2-6                    [1, 192, 13, 13]          --\n",
       "│    └─Conv2d: 2-7                       [1, 384, 13, 13]          663,936\n",
       "│    └─ReLU: 2-8                         [1, 384, 13, 13]          --\n",
       "│    └─Conv2d: 2-9                       [1, 256, 13, 13]          884,992\n",
       "│    └─ReLU: 2-10                        [1, 256, 13, 13]          --\n",
       "│    └─Conv2d: 2-11                      [1, 256, 13, 13]          590,080\n",
       "│    └─ReLU: 2-12                        [1, 256, 13, 13]          --\n",
       "│    └─MaxPool2d: 2-13                   [1, 256, 6, 6]            --\n",
       "├─AdaptiveAvgPool2d: 1-2                 [1, 256, 6, 6]            --\n",
       "├─Sequential: 1-3                        [1, 1000]                 --\n",
       "│    └─Dropout: 2-14                     [1, 9216]                 --\n",
       "│    └─Linear: 2-15                      [1, 4096]                 37,752,832\n",
       "│    └─ReLU: 2-16                        [1, 4096]                 --\n",
       "│    └─Dropout: 2-17                     [1, 4096]                 --\n",
       "│    └─Linear: 2-18                      [1, 4096]                 16,781,312\n",
       "│    └─ReLU: 2-19                        [1, 4096]                 --\n",
       "│    └─Linear: 2-20                      [1, 1000]                 4,097,000\n",
       "==========================================================================================\n",
       "Total params: 61,100,840\n",
       "Trainable params: 61,100,840\n",
       "Non-trainable params: 0\n",
       "Total mult-adds (M): 714.68\n",
       "==========================================================================================\n",
       "Input size (MB): 0.60\n",
       "Forward/backward pass size (MB): 3.95\n",
       "Params size (MB): 244.40\n",
       "Estimated Total Size (MB): 248.96\n",
       "=========================================================================================="
      ]
     },
     "execution_count": 7,
     "metadata": {},
     "output_type": "execute_result"
    }
   ],
   "source": [
    "from torchvision import models \n",
    "summary(models.alexnet(),input_size = (1,3,224,224))"
   ]
  },
  {
   "cell_type": "code",
   "execution_count": 8,
   "id": "96f7e411-6316-47a6-86ae-9e7a1df266b1",
   "metadata": {},
   "outputs": [],
   "source": [
    "import torch.optim as optim\n",
    "from torch.utils.data import DataLoader\n",
    "from torchvision import datasets, transforms\n",
    "from tqdm import tqdm\n",
    "import sys\n",
    "import numpy as np"
   ]
  },
  {
   "cell_type": "code",
   "execution_count": 9,
   "id": "e6394ec0-d7d5-4a2f-8cfc-d862cfb0de19",
   "metadata": {},
   "outputs": [
    {
     "data": {
      "text/plain": [
       "<torch._C.Generator at 0x2523019f8f0>"
      ]
     },
     "execution_count": 9,
     "metadata": {},
     "output_type": "execute_result"
    }
   ],
   "source": [
    "torch.manual_seed(86)"
   ]
  },
  {
   "cell_type": "code",
   "execution_count": 10,
   "id": "6b94aced-0d2a-4c2f-8833-72b84c11093a",
   "metadata": {},
   "outputs": [],
   "source": [
    "optimizer = optim.SGD(model.parameters(), lr = 0.002,momentum = 0.9)\n",
    "criterion = nn.CrossEntropyLoss()"
   ]
  },
  {
   "cell_type": "code",
   "execution_count": 11,
   "id": "1f90ab28-fc01-423b-9efe-5e42384cb9e8",
   "metadata": {},
   "outputs": [],
   "source": [
    "trainform_train = transforms.Compose([\n",
    "    transforms.RandomRotation(30),\n",
    "    # 随机旋转图像（-30度到30度），增加数据多样性\n",
    "    transforms.RandomResizedCrop((224,224)),\n",
    "    # 随机裁剪并缩放到224 * 224，模拟不同视角\n",
    "    transforms.RandomHorizontalFlip(p = 0.5),\n",
    "    # 以50%的概率水平翻转图像\n",
    "    transforms.ToTensor(),\n",
    "    # 将图像转为PyTorch张量(像素值哦那个[0,255],归一化到[0,1])\n",
    "    transforms.Normalize(mean = [0.485,0.456,0.406], std = [0.229,0.224,0.225])\n",
    "    # 对图像归一化（基于ImageNet统计量），加速训练收敛\n",
    "])"
   ]
  },
  {
   "cell_type": "code",
   "execution_count": 12,
   "id": "74b1fe1c-9d64-4a31-ba42-4473fd0b8af8",
   "metadata": {},
   "outputs": [],
   "source": [
    "transform_test = transforms.Compose([\n",
    "    transforms.Resize((224,224)),\n",
    "    # 将图像缩放到224 * 224\n",
    "    transforms.ToTensor(),\n",
    "    transforms.Normalize(mean = [0.485,0.456,0.406], std = [0.229,0.224,0.225])\n",
    "    # 不进行数据增强（保证测试数据一致性）\n",
    "])"
   ]
  },
  {
   "cell_type": "code",
   "execution_count": 13,
   "id": "54712d73-034e-46a3-a770-408f1f926d6f",
   "metadata": {},
   "outputs": [],
   "source": [
    "train_dataset = datasets.Flowers102(root = '/data/flowers102/',\n",
    "                                    split = \"train\",\n",
    "                                    download = True, \n",
    "                                    transform = trainform_train)\n",
    "train_loader = DataLoader(train_dataset,batch_size = 256,shuffle = True,num_workers = 16)\n",
    "\n",
    "test_dataset = datasets.Flowers102(root = '/data/flowers102/',\n",
    "                                   split = \"test\",\n",
    "                                   download = True,\n",
    "                                   transform = transform_test)\n",
    "test_loader = DataLoader(test_dataset, batch_size = 256, shuffle = False,num_workers = 16)"
   ]
  },
  {
   "cell_type": "code",
   "execution_count": 14,
   "id": "df5e403f-2182-4da8-b979-78d37068f450",
   "metadata": {},
   "outputs": [
    {
     "name": "stdout",
     "output_type": "stream",
     "text": [
      "True\n"
     ]
    }
   ],
   "source": [
    "print(torch.cuda.is_available())"
   ]
  },
  {
   "cell_type": "code",
   "execution_count": null,
   "id": "b6f9151d-2dad-4b3d-a0de-213a622e20e0",
   "metadata": {},
   "outputs": [
    {
     "name": "stdout",
     "output_type": "stream",
     "text": [
      "Epoch: 0 Loss: 1.2671734970407076 Acc: 0.007643519271426248\n",
      "  0%|          | 1/500 [01:10<9:47:37, 70.66s/it]"
     ]
    }
   ],
   "source": [
    "# 设置epoch数并开始训练\n",
    "num_epochs = 500  # 设置epoch数\n",
    "loss_history = []  # 创建损失历史记录列表\n",
    "acc_history = []   # 创建准确率历史记录列表\n",
    "\n",
    "# tqdm用于显示进度条并评估任务时间开销\n",
    "for epoch in tqdm(range(num_epochs), file=sys.stdout):\n",
    "    # 记录损失和预测正确数\n",
    "    total_loss = 0\n",
    "    total_correct = 0\n",
    "    \n",
    "    # 批量训练\n",
    "    model.train()\n",
    "    for inputs, labels in train_loader:\n",
    "        # 将数据转移到指定计算资源设备上\n",
    "        inputs = inputs.to(device = try_gpu())\n",
    "        labels = labels.to(device = try_gpu())\n",
    "        \n",
    "        # 预测、损失函数、反向传播\n",
    "        optimizer.zero_grad()\n",
    "        outputs = model(inputs)\n",
    "        loss = criterion(outputs, labels)\n",
    "        loss.backward()\n",
    "        optimizer.step()\n",
    "        \n",
    "        # 记录训练集loss\n",
    "        total_loss += loss.item()\n",
    "    \n",
    "    # 测试模型，不计算梯度\n",
    "    model.eval()\n",
    "    with torch.no_grad():\n",
    "        for inputs, labels in test_loader:\n",
    "            # 将数据转移到指定计算资源设备上\n",
    "            inputs = inputs.to(device = try_gpu())\n",
    "            labels = labels.to(device = try_gpu())\n",
    "            \n",
    "            # 预测\n",
    "            outputs = model(inputs)\n",
    "            # 记录测试集预测正确数\n",
    "            total_correct += (outputs.argmax(1) == labels).sum().item()\n",
    "        \n",
    "    # 记录训练集损失和测试集准确率\n",
    "    loss_history.append(np.log10(total_loss))  # 将损失加入损失历史记录列表，由于数值有时较大，这里取对数\n",
    "    acc_history.append(total_correct / len(test_dataset))# 将准确率加入准确率历史记录列表\n",
    "    \n",
    "    # 打印中间值\n",
    "    if epoch % 5 == 0:\n",
    "        tqdm.write(\"Epoch: {0} Loss: {1} Acc: {2}\".format(epoch, loss_history[-1], acc_history[-1]))\n",
    "\n",
    "# 使用Matplotlib绘制损失和准确率的曲线图\n",
    "import matplotlib.pyplot as plt\n",
    "plt.plot(loss_history, label='loss')\n",
    "plt.plot(acc_history, label='accuracy')\n",
    "plt.legend()\n",
    "plt.show()\n",
    "\n",
    "# 输出准确率\n",
    "print(\"Accuracy:\", acc_history[-1])"
   ]
  }
 ],
 "metadata": {
  "kernelspec": {
   "display_name": "Python 3 (ipykernel)",
   "language": "python",
   "name": "python3"
  },
  "language_info": {
   "codemirror_mode": {
    "name": "ipython",
    "version": 3
   },
   "file_extension": ".py",
   "mimetype": "text/x-python",
   "name": "python",
   "nbconvert_exporter": "python",
   "pygments_lexer": "ipython3",
   "version": "3.9.21"
  }
 },
 "nbformat": 4,
 "nbformat_minor": 5
}
