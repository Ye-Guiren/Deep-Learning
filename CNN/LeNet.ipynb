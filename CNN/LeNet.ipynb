{
 "cells": [
  {
   "cell_type": "code",
   "execution_count": 3,
   "id": "827974e6-4b80-4b34-9bd8-a728d9acfce6",
   "metadata": {},
   "outputs": [],
   "source": [
    "import torch\n",
    "import torch.nn as nn\n",
    "from torchinfo import summary\n",
    "# model.summary()：可清晰展示模型架构细节，如各层输入输出维度、参数数量、乘加操作次数"
   ]
  },
  {
   "cell_type": "code",
   "execution_count": 7,
   "id": "2c9b3d22-d620-44ea-83c9-4bf4be681bab",
   "metadata": {},
   "outputs": [],
   "source": [
    "class LeNet(nn.Module):\n",
    "    def __init__(self,num_classes = 10):\n",
    "        super(LeNet,self).__init__()\n",
    "        # 调用父类nn.Module的初始化方法\n",
    "        self.conv1 = nn.Conv2d(in_channels = 1,out_channels = 6,kernel_size = 5)\n",
    "        # 卷积层1: 输入一个通道（如灰色图像），输出六个通道，卷积核大小为5 x 5\n",
    "        self.conv2 = nn.Conv2d(in_channels = 6,out_channels = 16,kernel_size = 5)\n",
    "        # 卷积层2：输入6个通道，输出16个通道，卷积核大小为5 x 5\n",
    "        self.fc1 = nn.Linear(in_features = 16 * 4 * 4,out_features = 120)\n",
    "        # 全连接层1：输入特征数为16*4*4，输出120个节点\n",
    "        self.fc2 = nn.Linear(in_features = 120,out_features = 84)\n",
    "        # 全连接层2：输入特征数为120，输出84个节点\n",
    "        self.fc3 = nn.Linear(in_features = 84,out_features = num_classes)\n",
    "    def forward(self,x):\n",
    "        x = torch.relu(self.conv1(x))\n",
    "        # 对卷积层1的输出应用ReLU激活函数\n",
    "        x = nn.functional.max_pool2d(x,kernel_size = 2)\n",
    "        # 最大池化操作，缩小特征图尺寸\n",
    "        x = torch.relu(self.conv2(x))\n",
    "        # 对卷积层2的输出应用ReLU激活函数\n",
    "        x = nn.functional.max_pool2d(x,kernel_size = 2)\n",
    "        # 再次池化\n",
    "        x = x.view(-1,16*4*4)\n",
    "        # 展开张量， 以便输入全连接层\n",
    "        x = torch.relu(self.fc1(x))\n",
    "        x = torch.relu(self.fc2(x))\n",
    "        x = self.fc3(x)\n",
    "        return x"
   ]
  },
  {
   "cell_type": "code",
   "execution_count": 8,
   "id": "288a03c0-1585-48cc-85c6-86470b2a84af",
   "metadata": {},
   "outputs": [
    {
     "data": {
      "text/plain": [
       "==========================================================================================\n",
       "Layer (type:depth-idx)                   Output Shape              Param #\n",
       "==========================================================================================\n",
       "LeNet                                    [1, 10]                   --\n",
       "├─Conv2d: 1-1                            [1, 6, 24, 24]            156\n",
       "├─Conv2d: 1-2                            [1, 16, 8, 8]             2,416\n",
       "├─Linear: 1-3                            [1, 120]                  30,840\n",
       "├─Linear: 1-4                            [1, 84]                   10,164\n",
       "├─Linear: 1-5                            [1, 10]                   850\n",
       "==========================================================================================\n",
       "Total params: 44,426\n",
       "Trainable params: 44,426\n",
       "Non-trainable params: 0\n",
       "Total mult-adds (M): 0.29\n",
       "==========================================================================================\n",
       "Input size (MB): 0.00\n",
       "Forward/backward pass size (MB): 0.04\n",
       "Params size (MB): 0.18\n",
       "Estimated Total Size (MB): 0.22\n",
       "=========================================================================================="
      ]
     },
     "execution_count": 8,
     "metadata": {},
     "output_type": "execute_result"
    }
   ],
   "source": [
    "summary(LeNet(),input_size = (1,1,28,28))"
   ]
  },
  {
   "cell_type": "code",
   "execution_count": 11,
   "id": "40945a87-0784-4488-a6ea-1532e52357e5",
   "metadata": {},
   "outputs": [],
   "source": [
    "import torch.optim as optim\n",
    "from torch.utils.data import DataLoader\n",
    "from torchvision import datasets,transforms\n",
    "from tqdm import *\n",
    "import numpy as np\n",
    "import sys"
   ]
  },
  {
   "cell_type": "code",
   "execution_count": 21,
   "id": "43254097-5185-4a46-90f4-1f96558d7855",
   "metadata": {},
   "outputs": [
    {
     "name": "stdout",
     "output_type": "stream",
     "text": [
      "Epoch: 0 Loss: 2.7257871331118952 Acc: 0.5332\n",
      "Epoch: 2 Loss: 2.011362456708309 Acc: 0.8817  \n",
      "Epoch: 4 Loss: 1.764854188374556 Acc: 0.9361  \n",
      "Epoch: 6 Loss: 1.608087818012538 Acc: 0.956   \n",
      "Epoch: 8 Loss: 1.4965485479480274 Acc: 0.9638 \n",
      "100%|██████████| 10/10 [01:05<00:00,  6.60s/it]\n"
     ]
    },
    {
     "data": {
      "image/png": "[encoded data removed]",
      "text/plain": [
       "<Figure size 640x480 with 1 Axes>"
      ]
     },
     "metadata": {},
     "output_type": "display_data"
    },
    {
     "name": "stdout",
     "output_type": "stream",
     "text": [
      "Accuracy: 0.9625\n"
     ]
    }
   ],
   "source": [
    "torch.manual_seed(86)\n",
    "\n",
    "model = LeNet()\n",
    "optimizer = optim.SGD(model.parameters(),lr = 0.02)\n",
    "criterion = nn.CrossEntropyLoss()\n",
    "\n",
    "transform = transforms.Compose([\n",
    "    transforms.ToTensor()\n",
    "])\n",
    "# 创建数据变化，将是图像数据转换为PyTorch张量\n",
    "\n",
    "train_dataset = datasets.MNIST(root = '/data/mnist/',train = True,download = True,transform = transform)\n",
    "train_loader = DataLoader(train_dataset,batch_size = 256, shuffle = True)\n",
    "# 创建训练数据加载器，\n",
    "test_dataset = datasets.MNIST(root = '/data/mnist/',train = False,download = True,transform = transform) \n",
    "test_loader = DataLoader(test_dataset , batch_size = 256, shuffle = False)\n",
    "\n",
    "num_epochs = 10\n",
    "loss_history = []\n",
    "acc_history = []\n",
    "\n",
    "for epoch in tqdm(range(num_epochs), file = sys.stdout):\n",
    "# 使用tqdm库创建进度条\n",
    "    total_loss = 0\n",
    "    total_correct = 0\n",
    "\n",
    "    model.train()\n",
    "    # 将模型设置为训练模式\n",
    "    for inputs , labels in train_loader:\n",
    "    # 遍历训练数据加载器train_Loader，每次迭代获取一个批量的输入数据inputs和标签labels\n",
    "        optimizer.zero_grad()\n",
    "        # 梯度清零\n",
    "        outputs = model(inputs)\n",
    "        loss = criterion(outputs,labels)\n",
    "        loss.backward()\n",
    "        optimizer.step()\n",
    "\n",
    "        total_loss += loss.item()\n",
    "        # 累加当前批量的损失值（loss.item()获取标量形式的损失值）\n",
    "    model.eval()\n",
    "    with torch.no_grad():\n",
    "        for inputs,labels in test_loader:\n",
    "            outputs = model(inputs)\n",
    "            total_correct += (outputs.argmax(1) == labels).sum().item()\n",
    "            # 计算预测正确的样本数\n",
    "            # outputs.argmax(1)获取没样本预测类别（概率最大的索引），与真是标签labels比较，求和后用.item()转为标量并累加\n",
    "\n",
    "    loss_history.append(np.log10(total_loss))\n",
    "    acc_history.append(total_correct / len(test_dataset))\n",
    "\n",
    "    if epoch % 2 == 0:\n",
    "        tqdm.write(\"Epoch: {0} Loss: {1} Acc: {2}\".format(epoch,loss_history[-1],acc_history[-1]))\n",
    "\n",
    "import matplotlib.pyplot as plt\n",
    "plt.plot(loss_history, label = 'loss')\n",
    "plt.plot(acc_history, label = 'accuracy')\n",
    "plt.legend()\n",
    "plt.show()\n",
    "\n",
    "print(\"Accuracy:\", acc_history[-1])"
   ]
  }
 ],
 "metadata": {
  "kernelspec": {
   "display_name": "Python 3 (ipykernel)",
   "language": "python",
   "name": "python3"
  },
  "language_info": {
   "codemirror_mode": {
    "name": "ipython",
    "version": 3
   },
   "file_extension": ".py",
   "mimetype": "text/x-python",
   "name": "python",
   "nbconvert_exporter": "python",
   "pygments_lexer": "ipython3",
   "version": "3.9.21"
  }
 },
 "nbformat": 4,
 "nbformat_minor": 5
}
